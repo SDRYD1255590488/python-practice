{
 "cells": [
  {
   "cell_type": "markdown",
   "metadata": {},
   "source": [
    "# try except的使用场景："
   ]
  },
  {
   "cell_type": "markdown",
   "metadata": {},
   "source": [
    "### 当一段代码可能出现问题时（尽管大部分时间不会出现问题），将代码段放入try中。如果该代码段出问题，则抛出异常告诉自己或其他人—————这里出问题了"
   ]
  },
  {
   "cell_type": "code",
   "execution_count": 13,
   "metadata": {},
   "outputs": [
    {
     "name": "stdout",
     "output_type": "stream",
     "text": [
      "输入正确的正整数\n"
     ]
    },
    {
     "ename": "SystemExit",
     "evalue": "",
     "output_type": "error",
     "traceback": [
      "An exception has occurred, use %tb to see the full traceback.\n",
      "\u001b[0;31mSystemExit\u001b[0m\n"
     ]
    },
    {
     "name": "stderr",
     "output_type": "stream",
     "text": [
      "/Library/Frameworks/Python.framework/Versions/3.12/lib/python3.12/site-packages/IPython/core/interactiveshell.py:3585: UserWarning: To exit: use 'exit', 'quit', or Ctrl-D.\n",
      "  warn(\"To exit: use 'exit', 'quit', or Ctrl-D.\", stacklevel=1)\n"
     ]
    }
   ],
   "source": [
    "import sys\n",
    "input_num = input(\"输入一个正整数\")\n",
    "try:\n",
    "    converted_num = int(input_num)\n",
    "except :\n",
    "    # converted_num = -1\n",
    "    print(\"输入正确的正整数\")\n",
    "    sys.exit()\n",
    "print(converted_num)\n",
    "if converted_num>10:\n",
    "    print(converted_num, \"大于10\")\n",
    "elif converted_num>=0 & converted_num<=10:\n",
    "    print(converted_num, \"大于或等于0，小于或等于10\")"
   ]
  },
  {
   "cell_type": "markdown",
   "metadata": {},
   "source": [
    "#### 如上，对于输入没有做限制，所以可以输入任意字符串。如果输入非数字的字符串，那int()将会traceback，所以应该在此处使用try-except捕获异常。"
   ]
  }
 ],
 "metadata": {
  "kernelspec": {
   "display_name": "Python 3",
   "language": "python",
   "name": "python3"
  },
  "language_info": {
   "codemirror_mode": {
    "name": "ipython",
    "version": 3
   },
   "file_extension": ".py",
   "mimetype": "text/x-python",
   "name": "python",
   "nbconvert_exporter": "python",
   "pygments_lexer": "ipython3",
   "version": "3.12.8"
  }
 },
 "nbformat": 4,
 "nbformat_minor": 2
}
