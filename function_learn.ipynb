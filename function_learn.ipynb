{
 "cells": [
  {
   "cell_type": "code",
   "execution_count": 16,
   "metadata": {},
   "outputs": [
    {
     "name": "stdout",
     "output_type": "stream",
     "text": [
      "Hi, user\n"
     ]
    }
   ],
   "source": [
    "input_name = input(\"Type username\")\n",
    "\n",
    "def greeting(name):\n",
    "    if name == \"Adam\":\n",
    "        print(\"Hi, Adam\")\n",
    "    elif name == \"Lamo\":\n",
    "        print(\"Hi, Lamo\")\n",
    "    else:\n",
    "        print(\"Hi, user\")\n",
    "\n",
    "greeting(input_name)"
   ]
  },
  {
   "cell_type": "markdown",
   "metadata": {},
   "source": [
    "# 使用for找最大值"
   ]
  },
  {
   "cell_type": "code",
   "execution_count": 26,
   "metadata": {},
   "outputs": [
    {
     "name": "stdout",
     "output_type": "stream",
     "text": [
      "81524485\n"
     ]
    }
   ],
   "source": [
    "numbers = [4,1,75,24,6,892,81524485,1,48,2,23,9,8,4,5,899,5,144213,54,2]\n",
    "current_max = numbers[0]\n",
    "for number in numbers:\n",
    "        if number > current_max:\n",
    "            current_max = number\n",
    "print(current_max)    "
   ]
  },
  {
   "cell_type": "markdown",
   "metadata": {},
   "source": [
    "# 计数器\n",
    "### 数循环次数"
   ]
  },
  {
   "cell_type": "code",
   "execution_count": 27,
   "metadata": {},
   "outputs": [
    {
     "name": "stdout",
     "output_type": "stream",
     "text": [
      "1\n",
      "2\n",
      "3\n",
      "4\n",
      "5\n",
      "6\n",
      "7\n",
      "8\n",
      "9\n",
      "10\n",
      "11\n",
      "12\n",
      "13\n",
      "14\n",
      "15\n",
      "16\n",
      "17\n",
      "18\n",
      "19\n",
      "20\n"
     ]
    }
   ],
   "source": [
    "count = 0\n",
    "for number in numbers:\n",
    "    count = count + 1 \n",
    "    print(count)"
   ]
  },
  {
   "cell_type": "markdown",
   "metadata": {},
   "source": [
    "# 累加器"
   ]
  },
  {
   "cell_type": "code",
   "execution_count": 29,
   "metadata": {},
   "outputs": [
    {
     "name": "stdout",
     "output_type": "stream",
     "text": [
      "4 4\n",
      "5 1\n",
      "80 75\n",
      "104 24\n",
      "110 6\n",
      "1002 892\n",
      "81525487 81524485\n",
      "81525488 1\n",
      "81525536 48\n",
      "81525538 2\n",
      "81525561 23\n",
      "81525570 9\n",
      "81525578 8\n",
      "81525582 4\n",
      "81525587 5\n",
      "81526486 899\n",
      "81526491 5\n",
      "81670704 144213\n",
      "81670758 54\n",
      "81670760 2\n",
      "total: 81670760\n"
     ]
    }
   ],
   "source": [
    "total = 0\n",
    "for number in numbers:\n",
    "    total = total + number\n",
    "    print(total, number)\n",
    "print(\"total:\", total)"
   ]
  },
  {
   "cell_type": "markdown",
   "metadata": {},
   "source": [
    "# 求平均数\n",
    "累加器/计数器"
   ]
  },
  {
   "cell_type": "code",
   "execution_count": 30,
   "metadata": {},
   "outputs": [
    {
     "name": "stdout",
     "output_type": "stream",
     "text": [
      "4 4 4.0\n",
      "5 1 2.5\n",
      "80 75 26.666666666666668\n",
      "104 24 26.0\n",
      "110 6 22.0\n",
      "1002 892 167.0\n",
      "81525487 81524485 11646498.142857144\n",
      "81525488 1 10190686.0\n",
      "81525536 48 9058392.888888888\n",
      "81525538 2 8152553.8\n",
      "81525561 23 7411414.636363637\n",
      "81525570 9 6793797.5\n",
      "81525578 8 6271198.307692308\n",
      "81525582 4 5823255.857142857\n",
      "81525587 5 5435039.133333334\n",
      "81526486 899 5095405.375\n",
      "81526491 5 4795675.94117647\n",
      "81670704 144213 4537261.333333333\n",
      "81670758 54 4298460.947368421\n",
      "81670760 2 4083538.0\n",
      "total: 81670760 count: 20 average: 4083538.0\n"
     ]
    }
   ],
   "source": [
    "count = 0 \n",
    "total = 0\n",
    "average = 0\n",
    "for number in numbers:\n",
    "    count = count + 1\n",
    "    total = total + number\n",
    "    average = total / count\n",
    "    print(total, number, average)\n",
    "print(\"total:\", total, \"count:\", count, \"average:\", average)"
   ]
  },
  {
   "cell_type": "markdown",
   "metadata": {},
   "source": [
    "# 找最小值"
   ]
  },
  {
   "cell_type": "code",
   "execution_count": 34,
   "metadata": {},
   "outputs": [
    {
     "name": "stdout",
     "output_type": "stream",
     "text": [
      "min: 1\n"
     ]
    }
   ],
   "source": [
    "current_min = None\n",
    "for number in numbers:\n",
    "    if current_min is None:\n",
    "        current_min = number\n",
    "    elif number < current_min:\n",
    "        current_min = number\n",
    "print(\"min:\", current_min)"
   ]
  },
  {
   "cell_type": "markdown",
   "metadata": {},
   "source": [
    "# 练习\n",
    "Exercise 1: Write a program which repeatedly reads numbers until the user enters \"done\". Once \"done\" is entered, print out the total, count, and average of the numbers. If the user enters anything other than a number, detect their mistake using try and except and print an error message and skip to the next number."
   ]
  },
  {
   "cell_type": "code",
   "execution_count": 38,
   "metadata": {},
   "outputs": [
    {
     "name": "stdout",
     "output_type": "stream",
     "text": [
      "1 1 1\n",
      "2 8 7\n",
      "3 62 54\n",
      "4 114 52\n",
      "5 117 3\n",
      "Invalid input\n",
      "Invalid input\n",
      "Invalid input\n",
      "6 120 3\n",
      "7 122 2\n",
      "8 123 1\n",
      "9 124 1\n",
      "10 127 3\n",
      "11 159 32\n",
      "Invalid input\n",
      "12 160 1\n",
      "Invalid input\n",
      "Invalid input\n",
      "12 160 13.333333333333334\n"
     ]
    }
   ],
   "source": [
    "total = 0\n",
    "count = 0\n",
    "while True:\n",
    "    try:\n",
    "        input_value = input(\"Enter a number\")\n",
    "        if input_value == 'done':\n",
    "            break\n",
    "        input_num = int(input_value)\n",
    "        \n",
    "    except:\n",
    "        print(\"Invalid input\")\n",
    "        continue\n",
    "\n",
    "    count = count + 1\n",
    "    total = total + input_num\n",
    "    print(count, total, input_num)\n",
    "print(count, total, total/count)\n"
   ]
  }
 ],
 "metadata": {
  "kernelspec": {
   "display_name": "Python 3",
   "language": "python",
   "name": "python3"
  },
  "language_info": {
   "codemirror_mode": {
    "name": "ipython",
    "version": 3
   },
   "file_extension": ".py",
   "mimetype": "text/x-python",
   "name": "python",
   "nbconvert_exporter": "python",
   "pygments_lexer": "ipython3",
   "version": "3.12.8"
  }
 },
 "nbformat": 4,
 "nbformat_minor": 2
}
